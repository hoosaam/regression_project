{
 "cells": [
  {
   "cell_type": "code",
   "execution_count": null,
   "id": "8a57de79",
   "metadata": {},
   "outputs": [],
   "source": []
  },
  {
   "cell_type": "code",
   "execution_count": 1,
   "id": "e5b7d51e",
   "metadata": {},
   "outputs": [],
   "source": [
    "import joblib\n",
    "model= joblib.load('ridge_model.pkl')"
   ]
  },
  {
   "cell_type": "code",
   "execution_count": 18,
   "id": "411be040",
   "metadata": {},
   "outputs": [
    {
     "name": "stdout",
     "output_type": "stream",
     "text": [
      "التوقع: 342.0866103941008\n"
     ]
    }
   ],
   "source": [
    "import pandas as pd\n",
    "\n",
    "# بيانات جديدة كمثال\n",
    "new_data = pd.DataFrame([{\n",
    "    'year': 2022,\n",
    "    'month': 5,\n",
    "    'arr_flights': 222,\n",
    "    'arr_del15': 734,\n",
    "    'carrier_ct':55.95,\n",
    "    'weather_ct': 0,\n",
    "    'nas_ct': 0.4,\n",
    "    'security_ct': 0.1230,\n",
    "    'late_aircraft_ct': 1565,\n",
    "    'arr_cancelled': 0,\n",
    "    'arr_diverted': 0,\n",
    "    'arr_delay': 255,\n",
    "    'weather_delay':0,\n",
    "    'nas_delay':4,\n",
    "    'security_delay':0,\n",
    "    'late_aircraft_delay':29,\n",
    "}])\n",
    "\n",
    "# تأكد إن الأعمدة بالضبط نفس ترتيب واسم X اللي استخدمته قبل كده\n",
    "# التنبؤ:\n",
    "prediction = model.predict(new_data)\n",
    "print(\"التوقع:\", prediction[0])\n"
   ]
  },
  {
   "cell_type": "code",
   "execution_count": null,
   "id": "c3ebe5b7",
   "metadata": {},
   "outputs": [],
   "source": []
  },
  {
   "cell_type": "code",
   "execution_count": null,
   "id": "3601893d",
   "metadata": {},
   "outputs": [],
   "source": []
  }
 ],
 "metadata": {
  "kernelspec": {
   "display_name": "base",
   "language": "python",
   "name": "python3"
  },
  "language_info": {
   "codemirror_mode": {
    "name": "ipython",
    "version": 3
   },
   "file_extension": ".py",
   "mimetype": "text/x-python",
   "name": "python",
   "nbconvert_exporter": "python",
   "pygments_lexer": "ipython3",
   "version": "3.12.7"
  }
 },
 "nbformat": 4,
 "nbformat_minor": 5
}
